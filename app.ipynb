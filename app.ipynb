{
 "cells": [
  {
   "cell_type": "code",
   "execution_count": 1,
   "id": "rubber-struggle",
   "metadata": {
    "ExecuteTime": {
     "end_time": "2021-02-28T16:26:01.394753Z",
     "start_time": "2021-02-28T16:25:55.823765Z"
    }
   },
   "outputs": [],
   "source": [
    "from imutils import paths\n",
    "import face_recognition\n",
    "import pickle\n",
    "import cv2\n",
    "import os\n",
    "import time\n",
    "#get paths of each file in folder named Images\n",
    "#Images here contains my data(folders of various persons)\n",
    "imagePaths = list(paths.list_images('Images'))\n",
    "knownEncodings = []\n",
    "knownNames = []\n",
    "# loop over the image paths\n",
    "for (i, imagePath) in enumerate(imagePaths):\n",
    "    # extract the person name from the image path\n",
    "    name = imagePath.split(os.path.sep)[-2]\n",
    "    # load the input image and convert it from BGR (OpenCV ordering)\n",
    "    # to dlib ordering (RGB)\n",
    "    image = cv2.imread(imagePath)\n",
    "    rgb = cv2.cvtColor(image, cv2.COLOR_BGR2RGB)\n",
    "    #Use Face_recognition to locate faces\n",
    "    boxes = face_recognition.face_locations(rgb,model='hog')\n",
    "    # compute the facial embedding for the face\n",
    "    encodings = face_recognition.face_encodings(rgb, boxes)\n",
    "    # loop over the encodings\n",
    "    for encoding in encodings:\n",
    "        knownEncodings.append(encoding)\n",
    "        knownNames.append(name)\n",
    "#save emcodings along with their names in dictionary data\n",
    "data = {\"encodings\": knownEncodings, \"names\": knownNames}\n",
    "#use pickle to save data into a file for later use\n",
    "f = open(\"face_enc\", \"wb\")\n",
    "f.write(pickle.dumps(data))\n",
    "f.close()"
   ]
  },
  {
   "cell_type": "code",
   "execution_count": 2,
   "id": "distinct-summer",
   "metadata": {
    "ExecuteTime": {
     "end_time": "2021-02-28T16:26:01.417280Z",
     "start_time": "2021-02-28T16:26:01.399306Z"
    }
   },
   "outputs": [],
   "source": [
    "\n",
    "def recog():\n",
    "    \n",
    "    #find path of xml file containing haarcascade file \n",
    "    cascPathface = os.path.dirname(\n",
    "     cv2.__file__) + \"/data/haarcascade_frontalface_alt2.xml\"\n",
    "    # load the harcaascade in the cascade classifier\n",
    "    faceCascade = cv2.CascadeClassifier(cascPathface)\n",
    "    # load the known faces and embeddings saved in last file\n",
    "    data = pickle.loads(open('face_enc', \"rb\").read())\n",
    "    a=0\n",
    "    print(\"Streaming started\")\n",
    "    video_capture = cv2.VideoCapture(0)\n",
    "    # loop over frames from the video file stream\n",
    "    while True:\n",
    "        # grab the frame from the threaded video stream\n",
    "        ret, frame = video_capture.read()\n",
    "        gray = cv2.cvtColor(frame, cv2.COLOR_BGR2GRAY)\n",
    "        faces = faceCascade.detectMultiScale(gray,\n",
    "                                             scaleFactor=1.1,\n",
    "                                             minNeighbors=5,\n",
    "                                             minSize=(60, 60),\n",
    "                                             flags=cv2.CASCADE_SCALE_IMAGE)\n",
    "\n",
    "        # convert the input frame from BGR to RGB \n",
    "        rgb = cv2.cvtColor(frame, cv2.COLOR_BGR2RGB)\n",
    "        # the facial embeddings for face in input\n",
    "        encodings = face_recognition.face_encodings(rgb)\n",
    "        names = []\n",
    "        # loop over the facial embeddings incase\n",
    "        # we have multiple embeddings for multiple fcaes\n",
    "        for encoding in encodings:\n",
    "           #Compare encodings with encodings in data[\"encodings\"]\n",
    "           #Matches contain array with boolean values and True for the embeddings it matches closely\n",
    "           #and False for rest\n",
    "            matches = face_recognition.compare_faces(data[\"encodings\"],\n",
    "             encoding)\n",
    "            #set name =inknown if no encoding matches\n",
    "            name = \"Unknown\"\n",
    "            # check to see if we have found a match\n",
    "            if True in matches:\n",
    "                #Find positions at which we get True and store them\n",
    "                matchedIdxs = [i for (i, b) in enumerate(matches) if b]\n",
    "                counts = {}\n",
    "                # loop over the matched indexes and maintain a count for\n",
    "                # each recognized face face\n",
    "                for i in matchedIdxs:\n",
    "                    #Check the names at respective indexes we stored in matchedIdxs\n",
    "                    name = data[\"names\"][i]\n",
    "                    #increase count for the name we got\n",
    "                    counts[name] = counts.get(name, 0) + 1\n",
    "                #set name which has highest count\n",
    "                name = max(counts, key=counts.get)\n",
    "\n",
    "\n",
    "            # update the list of names\n",
    "            names.append(name)\n",
    "            # loop over the recognized faces\n",
    "            for ((x, y, w, h), name) in zip(faces, names):\n",
    "                # rescale the face coordinates\n",
    "                # draw the predicted face name on the image\n",
    "                cv2.rectangle(frame, (x, y), (x + w, y + h), (0, 255, 0), 2)\n",
    "                cv2.putText(frame, name, (x, y), cv2.FONT_HERSHEY_SIMPLEX,\n",
    "                 0.75, (0, 255, 0), 2)\n",
    "            a+=1\n",
    "        if a==5:\n",
    "            video_capture.release()\n",
    "            cv2.destroyAllWindows()            \n",
    "            return name\n",
    "        cv2.imshow(\"Frame\", frame)\n",
    "        if cv2.waitKey(1) & 0xFF == ord('q'):\n",
    "            break\n",
    "    video_capture.release()\n",
    "    cv2.destroyAllWindows()"
   ]
  },
  {
   "cell_type": "code",
   "execution_count": null,
   "id": "radical-worship",
   "metadata": {
    "ExecuteTime": {
     "start_time": "2021-02-28T16:25:55.782Z"
    }
   },
   "outputs": [
    {
     "name": "stdout",
     "output_type": "stream",
     "text": [
      "Streaming started\n"
     ]
    }
   ],
   "source": [
    "from tkinter import *\n",
    "master = Tk() \n",
    "Label(master, text='Username').grid(row=0) \n",
    "def settxt():\n",
    "    \n",
    "    if (e1.get()==recog()):\n",
    "        Label(master, text='Success').grid(row=2) \n",
    "\n",
    "Button(master, text='Login', width=25, command=settxt).grid(row=1)\n",
    "e1 = Entry(master) \n",
    "\n",
    "e1.grid(row=0, column=1) \n",
    "mainloop() \n"
   ]
  }
 ],
 "metadata": {
  "kernelspec": {
   "display_name": "Python 3",
   "language": "python",
   "name": "python3"
  },
  "language_info": {
   "codemirror_mode": {
    "name": "ipython",
    "version": 3
   },
   "file_extension": ".py",
   "mimetype": "text/x-python",
   "name": "python",
   "nbconvert_exporter": "python",
   "pygments_lexer": "ipython3",
   "version": "3.8.6"
  },
  "varInspector": {
   "cols": {
    "lenName": 16,
    "lenType": 16,
    "lenVar": 40
   },
   "kernels_config": {
    "python": {
     "delete_cmd_postfix": "",
     "delete_cmd_prefix": "del ",
     "library": "var_list.py",
     "varRefreshCmd": "print(var_dic_list())"
    },
    "r": {
     "delete_cmd_postfix": ") ",
     "delete_cmd_prefix": "rm(",
     "library": "var_list.r",
     "varRefreshCmd": "cat(var_dic_list()) "
    }
   },
   "types_to_exclude": [
    "module",
    "function",
    "builtin_function_or_method",
    "instance",
    "_Feature"
   ],
   "window_display": false
  }
 },
 "nbformat": 4,
 "nbformat_minor": 5
}
